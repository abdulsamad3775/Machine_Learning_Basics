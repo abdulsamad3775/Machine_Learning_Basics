{
 "cells": [
  {
   "cell_type": "code",
   "execution_count": 228,
   "id": "700448c6",
   "metadata": {},
   "outputs": [],
   "source": [
    "class SVC():\n",
    "    def __init__(self,alpha,lamda,no_iter):\n",
    "        self.no_iter=no_iter\n",
    "        self.lamda=lamda\n",
    "        self.alpha=alpha       \n",
    "        \n",
    "    def fit(self,x,y):\n",
    "        self.x=x\n",
    "        self.y=y\n",
    "        self.m,self.n=x.shape\n",
    "        self.w=np.zeros(self.n)\n",
    "        self.b=0\n",
    "        \n",
    "        for i in range(self.no_iter):\n",
    "            self.update_weights()            \n",
    "            \n",
    "    def update_weights(self):\n",
    "        y_label=np.where(self.y<=0,-1,1)\n",
    "        for idx,x_i in enumerate(self.x):\n",
    "            condition=(y_label[idx]*(np.dot(x_i,self.w)-self.b))>=1        \n",
    "            if condition:\n",
    "                dw=2*self.lamda*self.w\n",
    "                db=0\n",
    "            else:\n",
    "                dw=2*self.lamda*self.w-np.dot(x_i,y_label[idx])\n",
    "                db=y_label[idx]\n",
    "            \n",
    "            self.w=self.w-self.alpha*dw\n",
    "            self.b=self.b-self.alpha*db\n",
    "            \n",
    "    def predict(self,x):\n",
    "        y_pred=np.dot(x,self.w)-self.b\n",
    "        y_pred=np.sign(y_pred)\n",
    "#         y_pred=np.where(y<=-1,0,1)\n",
    "        return y_pred\n",
    "            "
   ]
  },
  {
   "cell_type": "code",
   "execution_count": 229,
   "id": "8aa7fdbc",
   "metadata": {},
   "outputs": [],
   "source": [
    "import numpy as np\n",
    "import pandas as pd\n",
    "from sklearn.preprocessing import StandardScaler\n",
    "from sklearn.model_selection import train_test_split\n",
    "from sklearn.metrics import accuracy_score,confusion_matrix,classification_report\n",
    "import matplotlib.pyplot as plt"
   ]
  },
  {
   "cell_type": "code",
   "execution_count": 230,
   "id": "e0b17e69",
   "metadata": {},
   "outputs": [],
   "source": [
    "df=pd.read_csv('diabetes.csv')"
   ]
  },
  {
   "cell_type": "code",
   "execution_count": 231,
   "id": "1297e091",
   "metadata": {},
   "outputs": [
    {
     "data": {
      "text/html": [
       "<div>\n",
       "<style scoped>\n",
       "    .dataframe tbody tr th:only-of-type {\n",
       "        vertical-align: middle;\n",
       "    }\n",
       "\n",
       "    .dataframe tbody tr th {\n",
       "        vertical-align: top;\n",
       "    }\n",
       "\n",
       "    .dataframe thead th {\n",
       "        text-align: right;\n",
       "    }\n",
       "</style>\n",
       "<table border=\"1\" class=\"dataframe\">\n",
       "  <thead>\n",
       "    <tr style=\"text-align: right;\">\n",
       "      <th></th>\n",
       "      <th>Pregnancies</th>\n",
       "      <th>Glucose</th>\n",
       "      <th>BloodPressure</th>\n",
       "      <th>SkinThickness</th>\n",
       "      <th>Insulin</th>\n",
       "      <th>BMI</th>\n",
       "      <th>DiabetesPedigreeFunction</th>\n",
       "      <th>Age</th>\n",
       "    </tr>\n",
       "  </thead>\n",
       "  <tbody>\n",
       "    <tr>\n",
       "      <th>0</th>\n",
       "      <td>6</td>\n",
       "      <td>148</td>\n",
       "      <td>72</td>\n",
       "      <td>35</td>\n",
       "      <td>0</td>\n",
       "      <td>33.6</td>\n",
       "      <td>0.627</td>\n",
       "      <td>50</td>\n",
       "    </tr>\n",
       "    <tr>\n",
       "      <th>1</th>\n",
       "      <td>1</td>\n",
       "      <td>85</td>\n",
       "      <td>66</td>\n",
       "      <td>29</td>\n",
       "      <td>0</td>\n",
       "      <td>26.6</td>\n",
       "      <td>0.351</td>\n",
       "      <td>31</td>\n",
       "    </tr>\n",
       "  </tbody>\n",
       "</table>\n",
       "</div>"
      ],
      "text/plain": [
       "   Pregnancies  Glucose  BloodPressure  SkinThickness  Insulin   BMI  \\\n",
       "0            6      148             72             35        0  33.6   \n",
       "1            1       85             66             29        0  26.6   \n",
       "\n",
       "   DiabetesPedigreeFunction  Age  \n",
       "0                     0.627   50  \n",
       "1                     0.351   31  "
      ]
     },
     "execution_count": 231,
     "metadata": {},
     "output_type": "execute_result"
    }
   ],
   "source": [
    "x,y=df.drop(columns='Outcome',axis=1),df['Outcome']\n",
    "x.head(2)"
   ]
  },
  {
   "cell_type": "code",
   "execution_count": 232,
   "id": "5b8411ba",
   "metadata": {},
   "outputs": [],
   "source": [
    "scaler=StandardScaler()"
   ]
  },
  {
   "cell_type": "code",
   "execution_count": 233,
   "id": "05134122",
   "metadata": {},
   "outputs": [],
   "source": [
    "x=scaler.fit_transform(x)"
   ]
  },
  {
   "cell_type": "code",
   "execution_count": 234,
   "id": "a911d8c9",
   "metadata": {},
   "outputs": [],
   "source": [
    "x_train,x_test,y_train,y_test=train_test_split(x,y,test_size=0.20,random_state=29)"
   ]
  },
  {
   "cell_type": "code",
   "execution_count": 235,
   "id": "f1d1fa8b",
   "metadata": {},
   "outputs": [
    {
     "data": {
      "text/plain": [
       "((614, 8), (154, 8), (614,), (154,))"
      ]
     },
     "execution_count": 235,
     "metadata": {},
     "output_type": "execute_result"
    }
   ],
   "source": [
    "x_train.shape,x_test.shape,y_train.shape,y_test.shape"
   ]
  },
  {
   "cell_type": "code",
   "execution_count": 236,
   "id": "84b4178c",
   "metadata": {},
   "outputs": [],
   "source": [
    "svc=SVC(alpha=0.001, lamda=0.01, no_iter=1000)"
   ]
  },
  {
   "cell_type": "code",
   "execution_count": 237,
   "id": "1dc92e32",
   "metadata": {},
   "outputs": [],
   "source": [
    "svc.fit(x_train,y_train)"
   ]
  },
  {
   "cell_type": "code",
   "execution_count": 238,
   "id": "9e725f64",
   "metadata": {},
   "outputs": [],
   "source": [
    "y_pred=svc.predict(x_test)"
   ]
  },
  {
   "cell_type": "code",
   "execution_count": 239,
   "id": "a429fc45",
   "metadata": {},
   "outputs": [
    {
     "data": {
      "text/plain": [
       "(154,)"
      ]
     },
     "execution_count": 239,
     "metadata": {},
     "output_type": "execute_result"
    }
   ],
   "source": [
    "y_pred.shape"
   ]
  },
  {
   "cell_type": "code",
   "execution_count": 240,
   "id": "b2094513",
   "metadata": {},
   "outputs": [],
   "source": [
    "# accuracy_score(y_test,y_pred)"
   ]
  },
  {
   "cell_type": "code",
   "execution_count": null,
   "id": "55adc5b0",
   "metadata": {},
   "outputs": [],
   "source": []
  },
  {
   "cell_type": "code",
   "execution_count": null,
   "id": "f18948fb",
   "metadata": {},
   "outputs": [],
   "source": []
  },
  {
   "cell_type": "code",
   "execution_count": null,
   "id": "875b5faa",
   "metadata": {},
   "outputs": [],
   "source": []
  },
  {
   "cell_type": "code",
   "execution_count": null,
   "id": "88ff7e84",
   "metadata": {},
   "outputs": [],
   "source": []
  },
  {
   "cell_type": "code",
   "execution_count": null,
   "id": "484ec513",
   "metadata": {},
   "outputs": [],
   "source": []
  },
  {
   "cell_type": "code",
   "execution_count": null,
   "id": "3b559918",
   "metadata": {},
   "outputs": [],
   "source": []
  },
  {
   "cell_type": "code",
   "execution_count": null,
   "id": "99334980",
   "metadata": {},
   "outputs": [],
   "source": []
  },
  {
   "cell_type": "code",
   "execution_count": null,
   "id": "cd85c0e8",
   "metadata": {},
   "outputs": [],
   "source": []
  }
 ],
 "metadata": {
  "kernelspec": {
   "display_name": "Python 3 (ipykernel)",
   "language": "python",
   "name": "python3"
  },
  "language_info": {
   "codemirror_mode": {
    "name": "ipython",
    "version": 3
   },
   "file_extension": ".py",
   "mimetype": "text/x-python",
   "name": "python",
   "nbconvert_exporter": "python",
   "pygments_lexer": "ipython3",
   "version": "3.11.3"
  }
 },
 "nbformat": 4,
 "nbformat_minor": 5
}
