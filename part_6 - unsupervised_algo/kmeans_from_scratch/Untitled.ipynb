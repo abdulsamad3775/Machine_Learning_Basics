{
 "cells": [
  {
   "cell_type": "code",
   "execution_count": 2,
   "id": "bbf81f6b",
   "metadata": {},
   "outputs": [
    {
     "name": "stdout",
     "output_type": "stream",
     "text": [
      "[3 3 3]\n"
     ]
    }
   ],
   "source": [
    "import numpy as np\n",
    "\n",
    "# Creating an array\n",
    "data = np.array([1, 2, 3, 4, 5])\n",
    "\n",
    "# Drawing a random sample of size 3 with replacement\n",
    "random_sample = np.random.choice(data, size=3, replace=True)\n",
    "\n",
    "print(random_sample)\n"
   ]
  },
  {
   "cell_type": "code",
   "execution_count": null,
   "id": "0358a59b",
   "metadata": {},
   "outputs": [],
   "source": []
  }
 ],
 "metadata": {
  "kernelspec": {
   "display_name": "Python 3 (ipykernel)",
   "language": "python",
   "name": "python3"
  },
  "language_info": {
   "codemirror_mode": {
    "name": "ipython",
    "version": 3
   },
   "file_extension": ".py",
   "mimetype": "text/x-python",
   "name": "python",
   "nbconvert_exporter": "python",
   "pygments_lexer": "ipython3",
   "version": "3.11.3"
  }
 },
 "nbformat": 4,
 "nbformat_minor": 5
}
