{
 "cells": [
  {
   "cell_type": "code",
   "execution_count": 1,
   "id": "78e89258",
   "metadata": {},
   "outputs": [],
   "source": [
    "import numpy as np \n",
    "import pandas as pd\n",
    "import matplotlib.pyplot as plt"
   ]
  },
  {
   "cell_type": "code",
   "execution_count": null,
   "id": "a712476c",
   "metadata": {},
   "outputs": [],
   "source": [
    "class LinearRegression():\n",
    "    def __init__(self,alpha,no_of_iter):\n",
    "        self.alpha=alpha\n",
    "        self.no_of_iter=no_of_iter\n",
    "        self.j_history=[]\n",
    "    def fit(self,X,Y):\n",
    "        self.X=X\n",
    "        self.Y=Y\n",
    "        self.m,self.n=X.shape\n",
    "        self.w=np.zeros(m)\n",
    "        self.b=0\n",
    "        \n",
    "        for i in range(no_of_iter):\n",
    "            update_weights()\n",
    "            \n",
    "    def update_weights(self):\n",
    "        y_pred=predict"
   ]
  }
 ],
 "metadata": {
  "kernelspec": {
   "display_name": "Python 3 (ipykernel)",
   "language": "python",
   "name": "python3"
  },
  "language_info": {
   "codemirror_mode": {
    "name": "ipython",
    "version": 3
   },
   "file_extension": ".py",
   "mimetype": "text/x-python",
   "name": "python",
   "nbconvert_exporter": "python",
   "pygments_lexer": "ipython3",
   "version": "3.11.3"
  }
 },
 "nbformat": 4,
 "nbformat_minor": 5
}
