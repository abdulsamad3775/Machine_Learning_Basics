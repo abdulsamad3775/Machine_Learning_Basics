{
 "cells": [
  {
   "cell_type": "code",
   "execution_count": 97,
   "id": "51ddb626",
   "metadata": {},
   "outputs": [],
   "source": [
    "import numpy as np \n",
    "import pandas as pd\n",
    "import matplotlib.pyplot as plt"
   ]
  },
  {
   "cell_type": "code",
   "execution_count": 98,
   "id": "4fb9dbbd",
   "metadata": {},
   "outputs": [],
   "source": [
    "class LinearRegression():\n",
    "    def __init__(self,alpha,no_of_iter):\n",
    "        self.alpha=alpha\n",
    "        self.no_of_iter=no_of_iter\n",
    "        self.j_history=[]\n",
    "    def fit(self,X,Y):\n",
    "        self.X=X\n",
    "        self.Y=Y\n",
    "        self.m,self.n=X.shape\n",
    "        self.w=np.zeros(self.n)\n",
    "        self.b=0\n",
    "        \n",
    "        for i in range(self.no_of_iter):\n",
    "            self.update_weights()\n",
    "            \n",
    "    def update_weights(self):\n",
    "        y_pred=self.predict(self.X)\n",
    "        \n",
    "        dw=-(2*(self.X.T).dot(self.Y-y_pred))/self.m\n",
    "        db=-(2*np.sum(self.Y-y_pred))/self.m\n",
    "        \n",
    "        self.w=self.w-self.alpha*dw\n",
    "        self.b=self.b-self.alpha*db\n",
    "        \n",
    "    def predict(self,X):\n",
    "        return X.dot(self.w)+self.b\n",
    "       "
   ]
  },
  {
   "cell_type": "code",
   "execution_count": 99,
   "id": "5dc3b9e4",
   "metadata": {},
   "outputs": [],
   "source": [
    "salary_data = pd.read_csv('salary_data.csv')"
   ]
  },
  {
   "cell_type": "code",
   "execution_count": 100,
   "id": "8685c876",
   "metadata": {},
   "outputs": [],
   "source": [
    "X = salary_data.iloc[:,:-1].values\n",
    "Y = salary_data.iloc[:,1].values"
   ]
  },
  {
   "cell_type": "code",
   "execution_count": 101,
   "id": "8fa1f38b",
   "metadata": {},
   "outputs": [],
   "source": [
    "from sklearn.model_selection import train_test_split\n",
    "X_train, X_test, Y_train, Y_test = train_test_split(X, Y, test_size=0.33, random_state = 2)"
   ]
  },
  {
   "cell_type": "code",
   "execution_count": 102,
   "id": "395f46ac",
   "metadata": {},
   "outputs": [],
   "source": [
    "model = LinearRegression(alpha = 0.02, no_of_iter=1000)"
   ]
  },
  {
   "cell_type": "code",
   "execution_count": 103,
   "id": "7c487382",
   "metadata": {},
   "outputs": [],
   "source": [
    "model.fit(X_train, Y_train)"
   ]
  },
  {
   "cell_type": "code",
   "execution_count": 104,
   "id": "f808d202",
   "metadata": {},
   "outputs": [
    {
     "data": {
      "text/plain": [
       "23697.406507136307"
      ]
     },
     "execution_count": 104,
     "metadata": {},
     "output_type": "execute_result"
    }
   ],
   "source": [
    "model.b"
   ]
  },
  {
   "cell_type": "code",
   "execution_count": null,
   "id": "4cb4aab8",
   "metadata": {},
   "outputs": [],
   "source": []
  },
  {
   "cell_type": "code",
   "execution_count": null,
   "id": "55523eef",
   "metadata": {},
   "outputs": [],
   "source": []
  }
 ],
 "metadata": {
  "kernelspec": {
   "display_name": "Python 3 (ipykernel)",
   "language": "python",
   "name": "python3"
  },
  "language_info": {
   "codemirror_mode": {
    "name": "ipython",
    "version": 3
   },
   "file_extension": ".py",
   "mimetype": "text/x-python",
   "name": "python",
   "nbconvert_exporter": "python",
   "pygments_lexer": "ipython3",
   "version": "3.11.3"
  }
 },
 "nbformat": 4,
 "nbformat_minor": 5
}
